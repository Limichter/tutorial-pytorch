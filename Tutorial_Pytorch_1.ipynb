{
  "nbformat": 4,
  "nbformat_minor": 0,
  "metadata": {
    "colab": {
      "name": "Tutorial Pytorch - 1",
      "provenance": [],
      "collapsed_sections": [],
      "authorship_tag": "ABX9TyM+KnyC97Y3a9U4Aaw4/P+V"
    },
    "kernelspec": {
      "name": "python3",
      "display_name": "Python 3"
    },
    "language_info": {
      "name": "python"
    },
    "accelerator": "GPU",
    "widgets": {
      "application/vnd.jupyter.widget-state+json": {
        "c3a0d4eb7f7f428da81ec0b8bba56b67": {
          "model_module": "@jupyter-widgets/controls",
          "model_name": "HBoxModel",
          "state": {
            "_view_name": "HBoxView",
            "_dom_classes": [],
            "_model_name": "HBoxModel",
            "_view_module": "@jupyter-widgets/controls",
            "_model_module_version": "1.5.0",
            "_view_count": null,
            "_view_module_version": "1.5.0",
            "box_style": "",
            "layout": "IPY_MODEL_0e408418c0344fc8b6ec1140956977c1",
            "_model_module": "@jupyter-widgets/controls",
            "children": [
              "IPY_MODEL_4bbdf31ed851439b885ab9c77595ad20",
              "IPY_MODEL_0df68bc6c12548d099fa2c18c4317e1d"
            ]
          }
        },
        "0e408418c0344fc8b6ec1140956977c1": {
          "model_module": "@jupyter-widgets/base",
          "model_name": "LayoutModel",
          "state": {
            "_view_name": "LayoutView",
            "grid_template_rows": null,
            "right": null,
            "justify_content": null,
            "_view_module": "@jupyter-widgets/base",
            "overflow": null,
            "_model_module_version": "1.2.0",
            "_view_count": null,
            "flex_flow": null,
            "width": null,
            "min_width": null,
            "border": null,
            "align_items": null,
            "bottom": null,
            "_model_module": "@jupyter-widgets/base",
            "top": null,
            "grid_column": null,
            "overflow_y": null,
            "overflow_x": null,
            "grid_auto_flow": null,
            "grid_area": null,
            "grid_template_columns": null,
            "flex": null,
            "_model_name": "LayoutModel",
            "justify_items": null,
            "grid_row": null,
            "max_height": null,
            "align_content": null,
            "visibility": null,
            "align_self": null,
            "height": null,
            "min_height": null,
            "padding": null,
            "grid_auto_rows": null,
            "grid_gap": null,
            "max_width": null,
            "order": null,
            "_view_module_version": "1.2.0",
            "grid_template_areas": null,
            "object_position": null,
            "object_fit": null,
            "grid_auto_columns": null,
            "margin": null,
            "display": null,
            "left": null
          }
        },
        "4bbdf31ed851439b885ab9c77595ad20": {
          "model_module": "@jupyter-widgets/controls",
          "model_name": "FloatProgressModel",
          "state": {
            "_view_name": "ProgressView",
            "style": "IPY_MODEL_2801a329a6e94bb88bf3f7ae5c148e9c",
            "_dom_classes": [],
            "description": "",
            "_model_name": "FloatProgressModel",
            "bar_style": "success",
            "max": 182040794,
            "_view_module": "@jupyter-widgets/controls",
            "_model_module_version": "1.5.0",
            "value": 182040794,
            "_view_count": null,
            "_view_module_version": "1.5.0",
            "orientation": "horizontal",
            "min": 0,
            "description_tooltip": null,
            "_model_module": "@jupyter-widgets/controls",
            "layout": "IPY_MODEL_abe6f0e57188461dbb92cdda08eb7f95"
          }
        },
        "0df68bc6c12548d099fa2c18c4317e1d": {
          "model_module": "@jupyter-widgets/controls",
          "model_name": "HTMLModel",
          "state": {
            "_view_name": "HTMLView",
            "style": "IPY_MODEL_8fa1791ad65542658696708846820d19",
            "_dom_classes": [],
            "description": "",
            "_model_name": "HTMLModel",
            "placeholder": "​",
            "_view_module": "@jupyter-widgets/controls",
            "_model_module_version": "1.5.0",
            "value": " 182041600/? [00:12&lt;00:00, 14551507.79it/s]",
            "_view_count": null,
            "_view_module_version": "1.5.0",
            "description_tooltip": null,
            "_model_module": "@jupyter-widgets/controls",
            "layout": "IPY_MODEL_b4200cd9de644d2489ec52c32425688f"
          }
        },
        "2801a329a6e94bb88bf3f7ae5c148e9c": {
          "model_module": "@jupyter-widgets/controls",
          "model_name": "ProgressStyleModel",
          "state": {
            "_view_name": "StyleView",
            "_model_name": "ProgressStyleModel",
            "description_width": "initial",
            "_view_module": "@jupyter-widgets/base",
            "_model_module_version": "1.5.0",
            "_view_count": null,
            "_view_module_version": "1.2.0",
            "bar_color": null,
            "_model_module": "@jupyter-widgets/controls"
          }
        },
        "abe6f0e57188461dbb92cdda08eb7f95": {
          "model_module": "@jupyter-widgets/base",
          "model_name": "LayoutModel",
          "state": {
            "_view_name": "LayoutView",
            "grid_template_rows": null,
            "right": null,
            "justify_content": null,
            "_view_module": "@jupyter-widgets/base",
            "overflow": null,
            "_model_module_version": "1.2.0",
            "_view_count": null,
            "flex_flow": null,
            "width": null,
            "min_width": null,
            "border": null,
            "align_items": null,
            "bottom": null,
            "_model_module": "@jupyter-widgets/base",
            "top": null,
            "grid_column": null,
            "overflow_y": null,
            "overflow_x": null,
            "grid_auto_flow": null,
            "grid_area": null,
            "grid_template_columns": null,
            "flex": null,
            "_model_name": "LayoutModel",
            "justify_items": null,
            "grid_row": null,
            "max_height": null,
            "align_content": null,
            "visibility": null,
            "align_self": null,
            "height": null,
            "min_height": null,
            "padding": null,
            "grid_auto_rows": null,
            "grid_gap": null,
            "max_width": null,
            "order": null,
            "_view_module_version": "1.2.0",
            "grid_template_areas": null,
            "object_position": null,
            "object_fit": null,
            "grid_auto_columns": null,
            "margin": null,
            "display": null,
            "left": null
          }
        },
        "8fa1791ad65542658696708846820d19": {
          "model_module": "@jupyter-widgets/controls",
          "model_name": "DescriptionStyleModel",
          "state": {
            "_view_name": "StyleView",
            "_model_name": "DescriptionStyleModel",
            "description_width": "",
            "_view_module": "@jupyter-widgets/base",
            "_model_module_version": "1.5.0",
            "_view_count": null,
            "_view_module_version": "1.2.0",
            "_model_module": "@jupyter-widgets/controls"
          }
        },
        "b4200cd9de644d2489ec52c32425688f": {
          "model_module": "@jupyter-widgets/base",
          "model_name": "LayoutModel",
          "state": {
            "_view_name": "LayoutView",
            "grid_template_rows": null,
            "right": null,
            "justify_content": null,
            "_view_module": "@jupyter-widgets/base",
            "overflow": null,
            "_model_module_version": "1.2.0",
            "_view_count": null,
            "flex_flow": null,
            "width": null,
            "min_width": null,
            "border": null,
            "align_items": null,
            "bottom": null,
            "_model_module": "@jupyter-widgets/base",
            "top": null,
            "grid_column": null,
            "overflow_y": null,
            "overflow_x": null,
            "grid_auto_flow": null,
            "grid_area": null,
            "grid_template_columns": null,
            "flex": null,
            "_model_name": "LayoutModel",
            "justify_items": null,
            "grid_row": null,
            "max_height": null,
            "align_content": null,
            "visibility": null,
            "align_self": null,
            "height": null,
            "min_height": null,
            "padding": null,
            "grid_auto_rows": null,
            "grid_gap": null,
            "max_width": null,
            "order": null,
            "_view_module_version": "1.2.0",
            "grid_template_areas": null,
            "object_position": null,
            "object_fit": null,
            "grid_auto_columns": null,
            "margin": null,
            "display": null,
            "left": null
          }
        },
        "10e28ca004404c5ab0de452ff09e42ac": {
          "model_module": "@jupyter-widgets/controls",
          "model_name": "HBoxModel",
          "state": {
            "_view_name": "HBoxView",
            "_dom_classes": [],
            "_model_name": "HBoxModel",
            "_view_module": "@jupyter-widgets/controls",
            "_model_module_version": "1.5.0",
            "_view_count": null,
            "_view_module_version": "1.5.0",
            "box_style": "",
            "layout": "IPY_MODEL_641bd919678f4aacb3c12a878499857d",
            "_model_module": "@jupyter-widgets/controls",
            "children": [
              "IPY_MODEL_f012fe175b6943deb60fd3f46db00a23",
              "IPY_MODEL_34b2aac3f72b43149dc2107490f7fb66"
            ]
          }
        },
        "641bd919678f4aacb3c12a878499857d": {
          "model_module": "@jupyter-widgets/base",
          "model_name": "LayoutModel",
          "state": {
            "_view_name": "LayoutView",
            "grid_template_rows": null,
            "right": null,
            "justify_content": null,
            "_view_module": "@jupyter-widgets/base",
            "overflow": null,
            "_model_module_version": "1.2.0",
            "_view_count": null,
            "flex_flow": null,
            "width": null,
            "min_width": null,
            "border": null,
            "align_items": null,
            "bottom": null,
            "_model_module": "@jupyter-widgets/base",
            "top": null,
            "grid_column": null,
            "overflow_y": null,
            "overflow_x": null,
            "grid_auto_flow": null,
            "grid_area": null,
            "grid_template_columns": null,
            "flex": null,
            "_model_name": "LayoutModel",
            "justify_items": null,
            "grid_row": null,
            "max_height": null,
            "align_content": null,
            "visibility": null,
            "align_self": null,
            "height": null,
            "min_height": null,
            "padding": null,
            "grid_auto_rows": null,
            "grid_gap": null,
            "max_width": null,
            "order": null,
            "_view_module_version": "1.2.0",
            "grid_template_areas": null,
            "object_position": null,
            "object_fit": null,
            "grid_auto_columns": null,
            "margin": null,
            "display": null,
            "left": null
          }
        },
        "f012fe175b6943deb60fd3f46db00a23": {
          "model_module": "@jupyter-widgets/controls",
          "model_name": "FloatProgressModel",
          "state": {
            "_view_name": "ProgressView",
            "style": "IPY_MODEL_de9ed75a284e479795031b4936df06f1",
            "_dom_classes": [],
            "description": "",
            "_model_name": "FloatProgressModel",
            "bar_style": "success",
            "max": 64275384,
            "_view_module": "@jupyter-widgets/controls",
            "_model_module_version": "1.5.0",
            "value": 64275384,
            "_view_count": null,
            "_view_module_version": "1.5.0",
            "orientation": "horizontal",
            "min": 0,
            "description_tooltip": null,
            "_model_module": "@jupyter-widgets/controls",
            "layout": "IPY_MODEL_45cbcf2993554c0d8f7361ebc89506d5"
          }
        },
        "34b2aac3f72b43149dc2107490f7fb66": {
          "model_module": "@jupyter-widgets/controls",
          "model_name": "HTMLModel",
          "state": {
            "_view_name": "HTMLView",
            "style": "IPY_MODEL_f533c24cd8d6467b9f4f79d0cf41770f",
            "_dom_classes": [],
            "description": "",
            "_model_name": "HTMLModel",
            "placeholder": "​",
            "_view_module": "@jupyter-widgets/controls",
            "_model_module_version": "1.5.0",
            "value": " 64275456/? [00:07&lt;00:00, 8639108.51it/s]",
            "_view_count": null,
            "_view_module_version": "1.5.0",
            "description_tooltip": null,
            "_model_module": "@jupyter-widgets/controls",
            "layout": "IPY_MODEL_55ff8a07494941619d9fe803999eac7f"
          }
        },
        "de9ed75a284e479795031b4936df06f1": {
          "model_module": "@jupyter-widgets/controls",
          "model_name": "ProgressStyleModel",
          "state": {
            "_view_name": "StyleView",
            "_model_name": "ProgressStyleModel",
            "description_width": "initial",
            "_view_module": "@jupyter-widgets/base",
            "_model_module_version": "1.5.0",
            "_view_count": null,
            "_view_module_version": "1.2.0",
            "bar_color": null,
            "_model_module": "@jupyter-widgets/controls"
          }
        },
        "45cbcf2993554c0d8f7361ebc89506d5": {
          "model_module": "@jupyter-widgets/base",
          "model_name": "LayoutModel",
          "state": {
            "_view_name": "LayoutView",
            "grid_template_rows": null,
            "right": null,
            "justify_content": null,
            "_view_module": "@jupyter-widgets/base",
            "overflow": null,
            "_model_module_version": "1.2.0",
            "_view_count": null,
            "flex_flow": null,
            "width": null,
            "min_width": null,
            "border": null,
            "align_items": null,
            "bottom": null,
            "_model_module": "@jupyter-widgets/base",
            "top": null,
            "grid_column": null,
            "overflow_y": null,
            "overflow_x": null,
            "grid_auto_flow": null,
            "grid_area": null,
            "grid_template_columns": null,
            "flex": null,
            "_model_name": "LayoutModel",
            "justify_items": null,
            "grid_row": null,
            "max_height": null,
            "align_content": null,
            "visibility": null,
            "align_self": null,
            "height": null,
            "min_height": null,
            "padding": null,
            "grid_auto_rows": null,
            "grid_gap": null,
            "max_width": null,
            "order": null,
            "_view_module_version": "1.2.0",
            "grid_template_areas": null,
            "object_position": null,
            "object_fit": null,
            "grid_auto_columns": null,
            "margin": null,
            "display": null,
            "left": null
          }
        },
        "f533c24cd8d6467b9f4f79d0cf41770f": {
          "model_module": "@jupyter-widgets/controls",
          "model_name": "DescriptionStyleModel",
          "state": {
            "_view_name": "StyleView",
            "_model_name": "DescriptionStyleModel",
            "description_width": "",
            "_view_module": "@jupyter-widgets/base",
            "_model_module_version": "1.5.0",
            "_view_count": null,
            "_view_module_version": "1.2.0",
            "_model_module": "@jupyter-widgets/controls"
          }
        },
        "55ff8a07494941619d9fe803999eac7f": {
          "model_module": "@jupyter-widgets/base",
          "model_name": "LayoutModel",
          "state": {
            "_view_name": "LayoutView",
            "grid_template_rows": null,
            "right": null,
            "justify_content": null,
            "_view_module": "@jupyter-widgets/base",
            "overflow": null,
            "_model_module_version": "1.2.0",
            "_view_count": null,
            "flex_flow": null,
            "width": null,
            "min_width": null,
            "border": null,
            "align_items": null,
            "bottom": null,
            "_model_module": "@jupyter-widgets/base",
            "top": null,
            "grid_column": null,
            "overflow_y": null,
            "overflow_x": null,
            "grid_auto_flow": null,
            "grid_area": null,
            "grid_template_columns": null,
            "flex": null,
            "_model_name": "LayoutModel",
            "justify_items": null,
            "grid_row": null,
            "max_height": null,
            "align_content": null,
            "visibility": null,
            "align_self": null,
            "height": null,
            "min_height": null,
            "padding": null,
            "grid_auto_rows": null,
            "grid_gap": null,
            "max_width": null,
            "order": null,
            "_view_module_version": "1.2.0",
            "grid_template_areas": null,
            "object_position": null,
            "object_fit": null,
            "grid_auto_columns": null,
            "margin": null,
            "display": null,
            "left": null
          }
        }
      }
    }
  },
  "cells": [
    {
      "cell_type": "markdown",
      "metadata": {
        "id": "LtfbZcHgW1xk"
      },
      "source": [
        "# **Tutorial PyTorch - 1**\n",
        "\n",
        "Pada tutorial yang pertama ini kita akan mencoba untuk membuat simple CNN classifier dengan dataset yang telah disediakan oleh PyTorch."
      ]
    },
    {
      "cell_type": "markdown",
      "metadata": {
        "id": "rbnA0vTfOwzH"
      },
      "source": [
        "### **1. Load Dataset**\n",
        "Pertama yang harus dilakukan adalah import library torch dan torchvision"
      ]
    },
    {
      "cell_type": "code",
      "metadata": {
        "id": "EvgvCyOfXdum"
      },
      "source": [
        "import torch\n",
        "import torchvision\n",
        "import torchvision.transforms as transforms"
      ],
      "execution_count": null,
      "outputs": []
    },
    {
      "cell_type": "markdown",
      "metadata": {
        "id": "h_RihUASDB_F"
      },
      "source": [
        "Mendefinisikan transform untuk pre-processong dan load data set, dan juga melakukan trainloader dan test loader menggunakan data SVHN"
      ]
    },
    {
      "cell_type": "code",
      "metadata": {
        "id": "PiZJri-NDeev",
        "colab": {
          "base_uri": "https://localhost:8080/",
          "height": 203,
          "referenced_widgets": [
            "c3a0d4eb7f7f428da81ec0b8bba56b67",
            "0e408418c0344fc8b6ec1140956977c1",
            "4bbdf31ed851439b885ab9c77595ad20",
            "0df68bc6c12548d099fa2c18c4317e1d",
            "2801a329a6e94bb88bf3f7ae5c148e9c",
            "abe6f0e57188461dbb92cdda08eb7f95",
            "8fa1791ad65542658696708846820d19",
            "b4200cd9de644d2489ec52c32425688f",
            "10e28ca004404c5ab0de452ff09e42ac",
            "641bd919678f4aacb3c12a878499857d",
            "f012fe175b6943deb60fd3f46db00a23",
            "34b2aac3f72b43149dc2107490f7fb66",
            "de9ed75a284e479795031b4936df06f1",
            "45cbcf2993554c0d8f7361ebc89506d5",
            "f533c24cd8d6467b9f4f79d0cf41770f",
            "55ff8a07494941619d9fe803999eac7f"
          ]
        },
        "outputId": "699e536f-edad-4b96-c511-43439bcad3d8"
      },
      "source": [
        "transform = transforms.Compose(\n",
        "    [\n",
        "     transforms.ToTensor(),\n",
        "     transforms.Normalize((0.5, 0.5, 0.5), (0.5, 0.5, 0.5))\n",
        "    ]\n",
        ")\n",
        "\n",
        "batch_size = 128\n",
        "\n",
        "traindata = torchvision.datasets.SVHN(root=\"./data\", split= 'train', download=True, transform=transform)\n",
        "trainloader = torch.utils.data.DataLoader(traindata, batch_size=batch_size, shuffle=True, num_workers=4)\n",
        "\n",
        "testdata = torchvision.datasets.SVHN(root=\"./data\", split= 'test', download=True, transform=transform)\n",
        "testloader = torch.utils.data.DataLoader(testdata, batch_size=batch_size, shuffle=True, num_workers=4)"
      ],
      "execution_count": null,
      "outputs": [
        {
          "output_type": "stream",
          "text": [
            "Downloading http://ufldl.stanford.edu/housenumbers/train_32x32.mat to ./data/train_32x32.mat\n"
          ],
          "name": "stdout"
        },
        {
          "output_type": "display_data",
          "data": {
            "application/vnd.jupyter.widget-view+json": {
              "model_id": "c3a0d4eb7f7f428da81ec0b8bba56b67",
              "version_minor": 0,
              "version_major": 2
            },
            "text/plain": [
              "HBox(children=(FloatProgress(value=0.0, max=182040794.0), HTML(value='')))"
            ]
          },
          "metadata": {
            "tags": []
          }
        },
        {
          "output_type": "stream",
          "text": [
            "\n"
          ],
          "name": "stdout"
        },
        {
          "output_type": "stream",
          "text": [
            "/usr/local/lib/python3.7/dist-packages/torch/utils/data/dataloader.py:477: UserWarning: This DataLoader will create 4 worker processes in total. Our suggested max number of worker in current system is 2, which is smaller than what this DataLoader is going to create. Please be aware that excessive worker creation might get DataLoader running slow or even freeze, lower the worker number to avoid potential slowness/freeze if necessary.\n",
            "  cpuset_checked))\n"
          ],
          "name": "stderr"
        },
        {
          "output_type": "stream",
          "text": [
            "Downloading http://ufldl.stanford.edu/housenumbers/test_32x32.mat to ./data/test_32x32.mat\n"
          ],
          "name": "stdout"
        },
        {
          "output_type": "display_data",
          "data": {
            "application/vnd.jupyter.widget-view+json": {
              "model_id": "10e28ca004404c5ab0de452ff09e42ac",
              "version_minor": 0,
              "version_major": 2
            },
            "text/plain": [
              "HBox(children=(FloatProgress(value=0.0, max=64275384.0), HTML(value='')))"
            ]
          },
          "metadata": {
            "tags": []
          }
        },
        {
          "output_type": "stream",
          "text": [
            "\n"
          ],
          "name": "stdout"
        }
      ]
    },
    {
      "cell_type": "markdown",
      "metadata": {
        "id": "x9Jb5KTNOOVg"
      },
      "source": [
        "Jumlah data train dan data test"
      ]
    },
    {
      "cell_type": "code",
      "metadata": {
        "colab": {
          "base_uri": "https://localhost:8080/"
        },
        "id": "48BhcZlTF1_C",
        "outputId": "8caf6dbd-9be0-4dcb-c52a-54fe3efbb032"
      },
      "source": [
        "print(\"Train = \", len(traindata))\n",
        "print(\"Test = \", len(testdata))"
      ],
      "execution_count": null,
      "outputs": [
        {
          "output_type": "stream",
          "text": [
            "Train =  73257\n",
            "Test =  26032\n"
          ],
          "name": "stdout"
        }
      ]
    },
    {
      "cell_type": "markdown",
      "metadata": {
        "id": "Au9UlHJ_Pj7o"
      },
      "source": [
        "### **2. Melihat beberapa image dari dataset**\n",
        "Kita dapat melihat beberapa image yang ada di dataset dengan menggunakan library matplotlib"
      ]
    },
    {
      "cell_type": "code",
      "metadata": {
        "id": "vilEdvaiObgP"
      },
      "source": [
        "import matplotlib.pyplot as plt\n",
        "import numpy as np"
      ],
      "execution_count": null,
      "outputs": []
    },
    {
      "cell_type": "code",
      "metadata": {
        "id": "2IbOhmsBQSit"
      },
      "source": [
        "def imgshow(img):\n",
        "  img = img / 2 + 0.5 #konversi dari -1.1 ke 0.1\n",
        "  imgn = img.numpy()\n",
        "  plt.imshow(np.transpose(imgn,(1,2,0)))\n",
        "  plt.show()"
      ],
      "execution_count": null,
      "outputs": []
    },
    {
      "cell_type": "code",
      "metadata": {
        "colab": {
          "base_uri": "https://localhost:8080/",
          "height": 323
        },
        "id": "OrNbBZq7Q0wz",
        "outputId": "5caecbcc-fd66-4865-ba65-4d2d258fa8d7"
      },
      "source": [
        "dataiter = iter(trainloader)\n",
        "images, labels = dataiter.next()\n",
        "\n",
        "imgshow(torchvision.utils.make_grid(images))"
      ],
      "execution_count": null,
      "outputs": [
        {
          "output_type": "stream",
          "text": [
            "/usr/local/lib/python3.7/dist-packages/torch/utils/data/dataloader.py:477: UserWarning: This DataLoader will create 4 worker processes in total. Our suggested max number of worker in current system is 2, which is smaller than what this DataLoader is going to create. Please be aware that excessive worker creation might get DataLoader running slow or even freeze, lower the worker number to avoid potential slowness/freeze if necessary.\n",
            "  cpuset_checked))\n"
          ],
          "name": "stderr"
        },
        {
          "output_type": "display_data",
          "data": {
            "image/png": "[encoded data removed]",
            "text/plain": [
              "<Figure size 432x288 with 1 Axes>"
            ]
          },
          "metadata": {
            "tags": [],
            "needs_background": "light"
          }
        }
      ]
    },
    {
      "cell_type": "markdown",
      "metadata": {
        "id": "FfftRp-RR-AD"
      },
      "source": [
        "### **3. Mendifinisikan CNN model**\n",
        "CNN model didefinisikan menggunakan kelas yang diturunkan dari kelas torch.nn.Module.\n",
        "Dan juga mendefinisikan loss function dan optimizer"
      ]
    },
    {
      "cell_type": "code",
      "metadata": {
        "id": "VfOLfgJORW4l"
      },
      "source": [
        "import torch.nn.functional as F\n",
        "import torch.optim as optim"
      ],
      "execution_count": null,
      "outputs": []
    },
    {
      "cell_type": "code",
      "metadata": {
        "colab": {
          "base_uri": "https://localhost:8080/"
        },
        "id": "ynzEx3enTVV1",
        "outputId": "4a3bcdbb-1824-4d90-9a5c-3559ad839fce"
      },
      "source": [
        "class CNNModel(torch.nn.Module):\n",
        "  def __init__(self):\n",
        "    super().__init__()\n",
        "    self.conv1 = torch.nn.Conv2d(3,6,5)\n",
        "    self.pool1 = torch.nn.MaxPool2d(2,2)\n",
        "    self.conv2 = torch.nn.Conv2d(6,16,5)\n",
        "    self.pool2 = torch.nn.MaxPool2d(2,2)\n",
        "    self.fc1 = torch.nn.Linear(16*5*5,120)\n",
        "    self.fc2 = torch.nn.Linear(120,84)\n",
        "    self.fc3 = torch.nn.Linear(84,10)\n",
        "\n",
        "  def forward(self,x):\n",
        "    x = self.pool1(F.relu(self.conv1(x)))\n",
        "    x = self.pool2(F.relu(self.conv2(x)))\n",
        "    x = torch.flatten(x,1)\n",
        "    x = F.relu(self.fc1(x))\n",
        "    x = F.relu(self.fc2(x))\n",
        "    x = (self.fc3(x))\n",
        "\n",
        "    return x\n",
        "\n",
        "net = CNNModel()\n",
        "net.to(\"cuda\")\n",
        "print(net)\n",
        "\n",
        "### mendefinisikan loss function\n",
        "loss = torch.nn.CrossEntropyLoss()\n",
        "optimizer = optim.SGD(net.parameters(),lr=0.01,momentum=0.9)"
      ],
      "execution_count": null,
      "outputs": [
        {
          "output_type": "stream",
          "text": [
            "CNNModel(\n",
            "  (conv1): Conv2d(3, 6, kernel_size=(5, 5), stride=(1, 1))\n",
            "  (pool1): MaxPool2d(kernel_size=2, stride=2, padding=0, dilation=1, ceil_mode=False)\n",
            "  (conv2): Conv2d(6, 16, kernel_size=(5, 5), stride=(1, 1))\n",
            "  (pool2): MaxPool2d(kernel_size=2, stride=2, padding=0, dilation=1, ceil_mode=False)\n",
            "  (fc1): Linear(in_features=400, out_features=120, bias=True)\n",
            "  (fc2): Linear(in_features=120, out_features=84, bias=True)\n",
            "  (fc3): Linear(in_features=84, out_features=10, bias=True)\n",
            ")\n"
          ],
          "name": "stdout"
        }
      ]
    },
    {
      "cell_type": "markdown",
      "metadata": {
        "id": "6kJ0FHT8T5Xx"
      },
      "source": [
        "### **4. Training**\n",
        "Looping per epoch dan update menggunakn optimizer"
      ]
    },
    {
      "cell_type": "code",
      "metadata": {
        "colab": {
          "base_uri": "https://localhost:8080/"
        },
        "id": "GDEu-6SpTV4a",
        "outputId": "f3d38a4b-d84f-4b3f-d4f7-3852f08addd9"
      },
      "source": [
        "for epoch in range(10):\n",
        "###\n",
        "  running_loss = 0.0\n",
        "  for i,data in enumerate(trainloader,0):\n",
        "    inputs, labels = data\n",
        "    inputs = inputs.to(\"cuda\")\n",
        "    optimizer.zero_grad()\n",
        "\n",
        "    outputs = net(inputs)\n",
        "    outputs = outputs.cpu()\n",
        "    lossval = loss(outputs, labels)\n",
        "    lossval.backward()\n",
        "    optimizer.step()\n",
        "\n",
        "    running_loss += lossval.item()\n",
        "  #if (i+1) % 2000 == 0:\n",
        "  print(\"Epoch:\",epoch+1,\"Minibatchke:\",i+1,\"Loss:\",running_loss/len(traindata))\n",
        "  running_loss = 0.0\n",
        "print(\"Finish ...\")"
      ],
      "execution_count": null,
      "outputs": [
        {
          "output_type": "stream",
          "text": [
            "/usr/local/lib/python3.7/dist-packages/torch/utils/data/dataloader.py:477: UserWarning: This DataLoader will create 4 worker processes in total. Our suggested max number of worker in current system is 2, which is smaller than what this DataLoader is going to create. Please be aware that excessive worker creation might get DataLoader running slow or even freeze, lower the worker number to avoid potential slowness/freeze if necessary.\n",
            "  cpuset_checked))\n"
          ],
          "name": "stderr"
        },
        {
          "output_type": "stream",
          "text": [
            "Epoch: 1 Minibatchke: 573 Loss: 0.0018831561360783977\n",
            "Epoch: 2 Minibatchke: 573 Loss: 0.0017844685076892654\n",
            "Epoch: 3 Minibatchke: 573 Loss: 0.001669624466037881\n",
            "Epoch: 4 Minibatchke: 573 Loss: 0.001580834662928759\n",
            "Epoch: 5 Minibatchke: 573 Loss: 0.0014801649705891802\n",
            "Epoch: 6 Minibatchke: 573 Loss: 0.001411816867548634\n",
            "Epoch: 7 Minibatchke: 573 Loss: 0.0013202977673219848\n",
            "Epoch: 8 Minibatchke: 573 Loss: 0.0012647429431084586\n",
            "Epoch: 9 Minibatchke: 573 Loss: 0.0012023212977002582\n",
            "Epoch: 10 Minibatchke: 573 Loss: 0.001165724149089283\n",
            "Finish ...\n"
          ],
          "name": "stdout"
        }
      ]
    },
    {
      "cell_type": "markdown",
      "metadata": {
        "id": "yVx083wVW1ra"
      },
      "source": [
        "Menyimpan hasil agar bisa di load kembali"
      ]
    },
    {
      "cell_type": "code",
      "metadata": {
        "colab": {
          "base_uri": "https://localhost:8080/"
        },
        "id": "Qo5EcqG9U9ql",
        "outputId": "e7a71093-fd98-47a8-9a87-dfbdaa4cf5e7"
      },
      "source": [
        "torch.save(net.cpu().state_dict(),\"./svhn.pth\")\n",
        "!ls"
      ],
      "execution_count": null,
      "outputs": [
        {
          "output_type": "stream",
          "text": [
            "data  sample_data  svhn.pth\n"
          ],
          "name": "stdout"
        }
      ]
    },
    {
      "cell_type": "code",
      "metadata": {
        "colab": {
          "base_uri": "https://localhost:8080/",
          "height": 340
        },
        "id": "1hvXW-ppXNiX",
        "outputId": "a616dec3-7933-4100-e927-833d8f468482"
      },
      "source": [
        "dataiter = iter(testloader)\n",
        "images, labels = dataiter.next()\n",
        "\n",
        "imgshow(torchvision.utils.make_grid(images))\n",
        "print(' '.join('%5s' % testdata.labels[i] for i in range(128) ))"
      ],
      "execution_count": null,
      "outputs": [
        {
          "output_type": "stream",
          "text": [
            "/usr/local/lib/python3.7/dist-packages/torch/utils/data/dataloader.py:477: UserWarning: This DataLoader will create 4 worker processes in total. Our suggested max number of worker in current system is 2, which is smaller than what this DataLoader is going to create. Please be aware that excessive worker creation might get DataLoader running slow or even freeze, lower the worker number to avoid potential slowness/freeze if necessary.\n",
            "  cpuset_checked))\n"
          ],
          "name": "stderr"
        },
        {
          "output_type": "display_data",
          "data": {
            "image/png": "[encoded data removed]",
            "text/plain": [
              "<Figure size 432x288 with 1 Axes>"
            ]
          },
          "metadata": {
            "tags": [],
            "needs_background": "light"
          }
        },
        {
          "output_type": "stream",
          "text": [
            "    5     2     1     0     6     1     9     1     1     8     3     6     5     1     4     4     1     6     3     4     2     0     1     3     2     5     4     1     4     2     8     3     8     6     0     1     5     1     1     2     9     1     6     9     2     6     1     2     0     6     9     1     5     1     9     8     1     5     1     5     2     9     2     4     1     0     6     9     3     2     3     5     1     1     4     6     2     8     3     1     4     1     7     1     2     1     7     1     0     1     4     4     6     4     4     2     8     1     7     7     4     8     2     3     2     2     3     1     8     6     3     7     6     3     0     7     2     7     4     2     8     8     1     7     1     9     3     4\n"
          ],
          "name": "stdout"
        }
      ]
    },
    {
      "cell_type": "code",
      "metadata": {
        "colab": {
          "base_uri": "https://localhost:8080/"
        },
        "id": "wBxQeGQVXuLC",
        "outputId": "48184704-ecfd-4ba1-eeda-649b1d3ba461"
      },
      "source": [
        "outputs = net(images)\n",
        "\n",
        "_, predicted = torch.max(outputs,1)\n",
        "print(predicted)\n",
        "print(testdata.labels)\n",
        "print(' '.join('%5s' % testdata.labels[i] for i in range(128) ))"
      ],
      "execution_count": null,
      "outputs": [
        {
          "output_type": "stream",
          "text": [
            "tensor([2, 6, 1, 5, 1, 3, 6, 4, 3, 1, 1, 2, 9, 3, 4, 6, 1, 2, 5, 1, 2, 8, 0, 7,\n",
            "        7, 2, 4, 4, 9, 4, 3, 5, 6, 3, 7, 2, 7, 0, 1, 6, 7, 3, 7, 2, 4, 2, 2, 7,\n",
            "        2, 1, 1, 1, 0, 8, 1, 8, 4, 1, 2, 9, 1, 0, 2, 2, 2, 2, 1, 9, 2, 7, 2, 8,\n",
            "        1, 3, 2, 7, 1, 9, 6, 3, 8, 3, 1, 8, 1, 1, 4, 3, 2, 2, 6, 1, 9, 8, 5, 9,\n",
            "        0, 1, 7, 4, 8, 9, 2, 7, 6, 1, 8, 3, 4, 2, 2, 3, 4, 3, 1, 7, 1, 3, 1, 4,\n",
            "        9, 4, 1, 4, 9, 0, 7, 0])\n",
            "[5 2 1 ... 7 6 7]\n",
            "    5     2     1     0     6     1     9     1     1     8     3     6     5     1     4     4     1     6     3     4     2     0     1     3     2     5     4     1     4     2     8     3     8     6     0     1     5     1     1     2     9     1     6     9     2     6     1     2     0     6     9     1     5     1     9     8     1     5     1     5     2     9     2     4     1     0     6     9     3     2     3     5     1     1     4     6     2     8     3     1     4     1     7     1     2     1     7     1     0     1     4     4     6     4     4     2     8     1     7     7     4     8     2     3     2     2     3     1     8     6     3     7     6     3     0     7     2     7     4     2     8     8     1     7     1     9     3     4\n"
          ],
          "name": "stdout"
        }
      ]
    },
    {
      "cell_type": "markdown",
      "metadata": {
        "id": "Cgx8m0fCY48M"
      },
      "source": [
        "Melakukan Test untuk semua image di test set"
      ]
    },
    {
      "cell_type": "code",
      "metadata": {
        "colab": {
          "base_uri": "https://localhost:8080/"
        },
        "id": "08Y2-fBjYq3e",
        "outputId": "b158bc7d-203b-407b-9225-33757dc8de1d"
      },
      "source": [
        "correct = 0\n",
        "total = 0\n",
        "with torch.no_grad():\n",
        "  for data in testloader:\n",
        "    images, labels = data\n",
        "\n",
        "    outputs = net(images)\n",
        "\n",
        "    _,predicted = torch.max(outputs,1)\n",
        "\n",
        "    total += labels.size(0)\n",
        "    \n",
        "    correct += (predicted == labels).sum().item()\n",
        "result = (correct/float(total)*100)\n",
        "print(\"Acc:\",result)"
      ],
      "execution_count": null,
      "outputs": [
        {
          "output_type": "stream",
          "text": [
            "/usr/local/lib/python3.7/dist-packages/torch/utils/data/dataloader.py:477: UserWarning: This DataLoader will create 4 worker processes in total. Our suggested max number of worker in current system is 2, which is smaller than what this DataLoader is going to create. Please be aware that excessive worker creation might get DataLoader running slow or even freeze, lower the worker number to avoid potential slowness/freeze if necessary.\n",
            "  cpuset_checked))\n"
          ],
          "name": "stderr"
        },
        {
          "output_type": "stream",
          "text": [
            "Acc: 88.69084204056546\n"
          ],
          "name": "stdout"
        }
      ]
    },
    {
      "cell_type": "code",
      "metadata": {
        "id": "fbs4Q0gVZBvw"
      },
      "source": [
        ""
      ],
      "execution_count": null,
      "outputs": []
    }
  ]
}